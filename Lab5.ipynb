{
 "cells": [
  {
   "cell_type": "markdown",
   "metadata": {},
   "source": [
    "# Лабораторная работа №5\n",
    "## Вариант 3\n",
    "### Выполнил: Федоров А. В. 6211"
   ]
  },
  {
   "cell_type": "markdown",
   "metadata": {},
   "source": [
    "### Импорты библиотек:"
   ]
  },
  {
   "cell_type": "code",
   "execution_count": 5,
   "metadata": {},
   "outputs": [],
   "source": [
    "import torch\n",
    "from torch import nn\n",
    "from torch.optim import Adam\n",
    "from torchvision.transforms import Compose\n",
    "from torchvision.transforms import ToTensor\n",
    "from torchvision.transforms import Resize\n",
    "from torchvision.transforms import Normalize\n",
    "from torch.utils.data import DataLoader\n",
    "from torch.utils.data import Dataset\n",
    "import os\n",
    "from typing import Tuple, Any\n",
    "from pandas import read_csv\n",
    "from random import randint\n",
    "from random import shuffle\n",
    "import cv2\n",
    "import matplotlib.pyplot as plt\n",
    "from numpy import array\n"
   ]
  },
  {
   "cell_type": "markdown",
   "metadata": {},
   "source": [
    "### Задание 1. Загружаю исходный датасет:"
   ]
  },
  {
   "cell_type": "code",
   "execution_count": 6,
   "metadata": {},
   "outputs": [
    {
     "name": "stdout",
     "output_type": "stream",
     "text": [
      "                                          Absolute path Class label\n",
      "0     C:\\Users\\Professional\\PycharmProjects\\lab3\\dat...           0\n",
      "1     C:\\Users\\Professional\\PycharmProjects\\lab3\\dat...           0\n",
      "2     C:\\Users\\Professional\\PycharmProjects\\lab3\\dat...           0\n",
      "3     C:\\Users\\Professional\\PycharmProjects\\lab3\\dat...           0\n",
      "4     C:\\Users\\Professional\\PycharmProjects\\lab3\\dat...           0\n",
      "...                                                 ...         ...\n",
      "2095  C:\\Users\\Professional\\PycharmProjects\\lab3\\dat...           1\n",
      "2096  C:\\Users\\Professional\\PycharmProjects\\lab3\\dat...           1\n",
      "2097  C:\\Users\\Professional\\PycharmProjects\\lab3\\dat...           1\n",
      "2098  C:\\Users\\Professional\\PycharmProjects\\lab3\\dat...           1\n",
      "2099  C:\\Users\\Professional\\PycharmProjects\\lab3\\dat...           1\n",
      "\n",
      "[2100 rows x 2 columns]\n"
     ]
    },
    {
     "name": "stderr",
     "output_type": "stream",
     "text": [
      "C:\\Users\\Professional\\AppData\\Local\\Temp\\ipykernel_20308\\1360825724.py:3: SettingWithCopyWarning: \n",
      "A value is trying to be set on a copy of a slice from a DataFrame\n",
      "\n",
      "See the caveats in the documentation: https://pandas.pydata.org/pandas-docs/stable/user_guide/indexing.html#returning-a-view-versus-a-copy\n",
      "  df.loc[df['Class label'] == 'cat', 'Class label'] = 0\n",
      "C:\\Users\\Professional\\AppData\\Local\\Temp\\ipykernel_20308\\1360825724.py:4: SettingWithCopyWarning: \n",
      "A value is trying to be set on a copy of a slice from a DataFrame\n",
      "\n",
      "See the caveats in the documentation: https://pandas.pydata.org/pandas-docs/stable/user_guide/indexing.html#returning-a-view-versus-a-copy\n",
      "  df.loc[df['Class label'] == 'dog', 'Class label'] = 1\n"
     ]
    }
   ],
   "source": [
    "data_frame = read_csv('annotation_original.csv')\n",
    "df = data_frame[[\"Absolute path\", \"Class label\"]]\n",
    "df.loc[df['Class label'] == 'cat', 'Class label'] = 0\n",
    "df.loc[df['Class label'] == 'dog', 'Class label'] = 1\n",
    "df.to_csv(\"annotation.csv\", index=0)\n",
    "print(df)"
   ]
  },
  {
   "cell_type": "markdown",
   "metadata": {},
   "source": [
    "### Класс датасета из лекции:"
   ]
  },
  {
   "cell_type": "code",
   "execution_count": 7,
   "metadata": {},
   "outputs": [],
   "source": [
    "class CustomImageDataset(Dataset):\n",
    "    def __init__(self, path_to_annotation_file: str, transform: Any = None, target_transform: Any = None) -> None:\n",
    "        self.path_to_annotation_file = path_to_annotation_file\n",
    "        self.dataset_info = read_csv(path_to_annotation_file, header=None)\n",
    "        self.dataset_info.drop(self.dataset_info.columns[[0]], axis=1, inplace=True)\n",
    "        self.dataset_info.drop(index=0, axis=0, inplace=True)\n",
    "        self.transform = transform\n",
    "        self.target_transform = target_transform\n",
    "\n",
    "    def __len__(self) -> int:\n",
    "        return len(self.dataset_info)\n",
    "\n",
    "    def __getitem__(self, index: int) -> Tuple[torch.tensor, int]:\n",
    "        path_to_image = self.dataset_info.iloc[index, 0]\n",
    "        image = cv2.cvtColor(cv2.imread(path_to_image), cv2.COLOR_BGR2RGB)\n",
    "        label = self.dataset_info.iloc[index, 1]\n",
    "\n",
    "        if self.transform:\n",
    "            image = self.transform(image)\n",
    "        if self.target_transform:\n",
    "            label = self.target_Transform(label)\n",
    "\n",
    "        return image, label"
   ]
  },
  {
   "cell_type": "markdown",
   "metadata": {},
   "source": [
    "### Задание 2."
   ]
  },
  {
   "cell_type": "code",
   "execution_count": 8,
   "metadata": {},
   "outputs": [
    {
     "name": "stdout",
     "output_type": "stream",
     "text": [
      "1676 212 212\n"
     ]
    }
   ],
   "source": [
    "random_list = list(range(2100))\n",
    "shuffle(random_list)\n",
    "train_csv = df.iloc[random_list[:1676]]\n",
    "train_csv.to_csv(\"train_csv.csv\")\n",
    "test_csv = df.iloc[random_list[1676:1888]]\n",
    "test_csv.to_csv(\"test_csv.csv\")\n",
    "valid_csv = df.iloc[random_list[1888:]]\n",
    "valid_csv.to_csv(\"valid_csv.csv\")\n",
    "print(len(train_csv), len(test_csv), len(valid_csv))"
   ]
  }
 ],
 "metadata": {
  "kernelspec": {
   "display_name": "GPU",
   "language": "python",
   "name": "gpu"
  },
  "language_info": {
   "codemirror_mode": {
    "name": "ipython",
    "version": 3
   },
   "file_extension": ".py",
   "mimetype": "text/x-python",
   "name": "python",
   "nbconvert_exporter": "python",
   "pygments_lexer": "ipython3",
   "version": "3.9.15"
  },
  "orig_nbformat": 4
 },
 "nbformat": 4,
 "nbformat_minor": 2
}
