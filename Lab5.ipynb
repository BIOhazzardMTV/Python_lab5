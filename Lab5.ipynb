{
 "cells": [
  {
   "cell_type": "markdown",
   "metadata": {},
   "source": [
    "# Лабораторная работа №5\n",
    "## Вариант 3\n",
    "### Выполнил: Федоров А. В. 6211"
   ]
  },
  {
   "cell_type": "markdown",
   "metadata": {},
   "source": [
    "### Импорты библиотек:"
   ]
  },
  {
   "cell_type": "code",
   "execution_count": null,
   "metadata": {},
   "outputs": [],
   "source": [
    "import torch\n",
    "from torch import nn\n",
    "from torch.optim import Adam\n",
    "from torchvision.transforms import Compose\n",
    "from torchvision.transforms import ToTensor\n",
    "from torchvision.transforms import Resize\n",
    "from torchvision.transforms import Normalize\n",
    "from torch.utils.data import DataLoader\n",
    "from torch.utils.data import Dataset\n",
    "import os\n",
    "from typing import Tuple, Any\n",
    "from pandas import read_csv\n",
    "from random import randint\n",
    "from random import shuffle\n",
    "import cv2\n",
    "import matplotlib.pyplot as plt\n",
    "from numpy import array\n"
   ]
  },
  {
   "cell_type": "markdown",
   "metadata": {},
   "source": [
    "### Задание 1. Загружаю исходный датасет:"
   ]
  },
  {
   "cell_type": "code",
   "execution_count": null,
   "metadata": {},
   "outputs": [],
   "source": [
    "data_frame = read_csv('annotation_original.csv')\n",
    "df = data_frame[[\"Absolute path\", \"Class label\"]]\n",
    "df.loc[df['Class label'] == 'cat', 'Class label'] = 0\n",
    "df.loc[df['Class label'] == 'dog', 'Class label'] = 1\n",
    "df.to_csv(\"annotation.csv\", index=0)\n",
    "print(df)"
   ]
  },
  {
   "cell_type": "markdown",
   "metadata": {},
   "source": [
    "### Класс датасета из лекции:"
   ]
  },
  {
   "cell_type": "code",
   "execution_count": null,
   "metadata": {},
   "outputs": [],
   "source": [
    "class CustomImageDataset(Dataset):\n",
    "    def __init__(self, path_to_annotation_file: str, transform: Any = None, target_transform: Any = None) -> None:\n",
    "        self.path_to_annotation_file = path_to_annotation_file\n",
    "        self.dataset_info = read_csv(path_to_annotation_file, header=None)\n",
    "        self.dataset_info.drop(self.dataset_info.columns[[0]], axis=1, inplace=True)\n",
    "        self.dataset_info.drop(index=0, axis=0, inplace=True)\n",
    "        self.transform = transform\n",
    "        self.target_transform = target_transform\n",
    "\n",
    "    def __len__(self) -> int:\n",
    "        return len(self.dataset_info)\n",
    "\n",
    "    def __getitem__(self, index: int) -> Tuple[torch.tensor, int]:\n",
    "        path_to_image = self.dataset_info.iloc[index, 0]\n",
    "        image = cv2.cvtColor(cv2.imread(path_to_image), cv2.COLOR_BGR2RGB)\n",
    "        label = self.dataset_info.iloc[index, 1]\n",
    "\n",
    "        if self.transform:\n",
    "            image = self.transform(image)\n",
    "        if self.target_transform:\n",
    "            label = self.target_Transform(label)\n",
    "\n",
    "        return image, label"
   ]
  },
  {
   "cell_type": "markdown",
   "metadata": {},
   "source": [
    "### Задание 2."
   ]
  },
  {
   "cell_type": "code",
   "execution_count": null,
   "metadata": {},
   "outputs": [],
   "source": [
    "random_list = list(range(2100))\n",
    "shuffle(random_list)\n",
    "train_csv = df.iloc[random_list[:1676]]\n",
    "train_csv.to_csv(\"train_csv.csv\")\n",
    "test_csv = df.iloc[random_list[1676:1888]]\n",
    "test_csv.to_csv(\"test_csv.csv\")\n",
    "valid_csv = df.iloc[random_list[1888:]]\n",
    "valid_csv.to_csv(\"valid_csv.csv\")\n",
    "print(len(train_csv), len(test_csv), len(valid_csv))"
   ]
  },
  {
   "cell_type": "markdown",
   "metadata": {},
   "source": [
    "### Задание 3. Свёрточная сеть:"
   ]
  },
  {
   "cell_type": "code",
   "execution_count": null,
   "metadata": {},
   "outputs": [],
   "source": [
    "class CNN(nn.Module):\n",
    "    def __init__(self) -> None:\n",
    "        super(CNN, self).__init__()\n",
    "\n",
    "        self.conv_1 = nn.Conv2d(3, 16, kernel_size=3, padding=0, stride=2)\n",
    "        self.conv_2 = nn.Conv2d(16, 32, kernel_size=3, padding=0, stride=2)\n",
    "        self.conv_3 = nn.Conv2d(32, 64, kernel_size=3, padding=0, stride=2)\n",
    "\n",
    "        self.relu = nn.ReLU()\n",
    "        self.dropout = nn.Dropout(0.1)\n",
    "        self.max_pool = nn.MaxPool2d(2)\n",
    "\n",
    "        self.fc_1 = nn.Linear(576, 10)\n",
    "        self.fc_2 = nn.Linear(10, 1)\n",
    "\n",
    "    def forward(self, x: torch.tensor) -> torch.tensor:\n",
    "        output = self.relu(self.conv_1(x))\n",
    "        output = self.max_pool(output)\n",
    "        output = self.relu(self.conv_2(output))\n",
    "        output = self.max_pool(output)\n",
    "        output = self.relu(self.conv_3(output))\n",
    "        output = self.max_pool(output)\n",
    "\n",
    "        output = nn.Flatten()(output)\n",
    "        output = self.relu(self.fc_1(output))\n",
    "        output = nn.Sigmoid()(self.fc_2(output))\n",
    "        return output"
   ]
  },
  {
   "cell_type": "markdown",
   "metadata": {},
   "source": [
    "### Задание 4. Пайплайн предобработки данных + создание выборок."
   ]
  },
  {
   "cell_type": "code",
   "execution_count": null,
   "metadata": {},
   "outputs": [],
   "source": [
    "custom_transforms = Compose([ToTensor(),\n",
    "                             Resize((224, 224)),\n",
    "                             Normalize((0.485, 0.456, 0.406), (0.229, 0.224, 0.225))\n",
    "                             ])\n",
    "train_dataset = CustomImageDataset(\"train_csv.csv\", custom_transforms)\n",
    "train_dataloader = DataLoader(train_dataset, batch_size=4, shuffle=True)\n",
    "test_dataset = CustomImageDataset(\"test_csv.csv\", custom_transforms)\n",
    "test_dataloader = DataLoader(test_dataset, batch_size=4, shuffle=False)\n",
    "valid_dataset = CustomImageDataset(\"valid_csv.csv\", custom_transforms)\n",
    "valid_dataloader = DataLoader(valid_dataset, batch_size=4, shuffle=False)"
   ]
  },
  {
   "cell_type": "markdown",
   "metadata": {},
   "source": [
    "### Создание модели. Объявление оптимизатора и критерия."
   ]
  },
  {
   "cell_type": "code",
   "execution_count": null,
   "metadata": {},
   "outputs": [],
   "source": [
    "device = torch.device(\"cuda:0\")\n",
    "model1 = CNN().to(device)\n",
    "\n",
    "optimizer = Adam(params=model1.parameters(), lr=0.001)\n",
    "criterion = nn.BCELoss()"
   ]
  },
  {
   "cell_type": "markdown",
   "metadata": {},
   "source": [
    "### Задание 5. Train loop."
   ]
  },
  {
   "cell_type": "code",
   "execution_count": null,
   "metadata": {},
   "outputs": [],
   "source": [
    "epochs = 20\n",
    "model1.train()\n",
    "accuracy_values = []\n",
    "loss_values = []\n",
    "\n",
    "for epoch in range(epochs):\n",
    "\n",
    "    epoch_loss = 0\n",
    "    epoch_accuracy = 0\n",
    "    i = 0\n",
    "    for data, label in train_dataloader:\n",
    "        i += 1\n",
    "        print(i)\n",
    "        data = data.to(device)\n",
    "        label = torch.tensor(list(int(x) for x in label))\n",
    "        label = label.to(device)\n",
    "        output = model1(data)\n",
    "        loss = criterion(output, label.unsqueeze(dim=1).to(torch.float))\n",
    "        optimizer.zero_grad()\n",
    "        loss.backward()\n",
    "        optimizer.step()\n",
    "        acc = array(\n",
    "            ([1 if (1 if output[j][0].detach() >= 0.5 else 0) == int(label[j]) else 0 for j in range(4)])).mean()\n",
    "        epoch_accuracy += acc / len(train_dataloader)\n",
    "        epoch_loss += loss / len(train_dataloader)\n",
    "\n",
    "    accuracy_values.append(epoch_accuracy)\n",
    "    loss_values.append(epoch_loss)\n",
    "    print('Epoch : {}, train accuracy : {}, train loss : {}'.format(epoch + 1, epoch_accuracy, epoch_loss))"
   ]
  },
  {
   "cell_type": "markdown",
   "metadata": {},
   "source": [
    "### Задание 6. Выводим график функции потерь:"
   ]
  },
  {
   "cell_type": "code",
   "execution_count": null,
   "metadata": {},
   "outputs": [],
   "source": [
    "plt.figure(figsize=(15, 5))\n",
    "plt.plot(range(20), accuracy_values, color=\"green\")\n",
    "plt.plot(range(20), [float(value.detach()) for value in loss_values], color=\"blue\")\n",
    "plt.legend([\"Accuracy\", \"Loss\"])"
   ]
  },
  {
   "cell_type": "markdown",
   "metadata": {},
   "source": [
    "### Задание 7. Прогон модели по тестовым данным"
   ]
  },
  {
   "cell_type": "code",
   "execution_count": null,
   "metadata": {},
   "outputs": [],
   "source": [
    "model1.eval()\n",
    "test_loss = 0\n",
    "test_accuracy = 0\n",
    "\n",
    "for data, label in test_dataloader:\n",
    "    data = data.to(device)\n",
    "    label = label.to(device)\n",
    "    \n",
    "    output = model1(data)\n",
    "    acc = array(([1 if (1 if output[j][0].detach() >= 0.5 else 0) == int(label[j]) else 0 for j in range(4)])).mean()\n",
    "    test_accuracy += acc / len(test_dataloader)\n",
    "    test_loss += float(loss.detach()) / len(test_dataloader)"
   ]
  }
 ],
 "metadata": {
  "kernelspec": {
   "display_name": "GPU",
   "language": "python",
   "name": "gpu"
  },
  "language_info": {
   "codemirror_mode": {
    "name": "ipython",
    "version": 3
   },
   "file_extension": ".py",
   "mimetype": "text/x-python",
   "name": "python",
   "nbconvert_exporter": "python",
   "pygments_lexer": "ipython3",
   "version": "3.9.15"
  },
  "orig_nbformat": 4
 },
 "nbformat": 4,
 "nbformat_minor": 2
}
